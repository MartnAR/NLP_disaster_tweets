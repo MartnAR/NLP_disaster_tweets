{
 "cells": [
  {
   "cell_type": "code",
   "execution_count": 1,
   "metadata": {},
   "outputs": [
    {
     "name": "stderr",
     "output_type": "stream",
     "text": [
      "C:\\Users\\malon\\.conda\\envs\\nlpdisaster\\lib\\site-packages\\tensorflow\\python\\framework\\dtypes.py:526: FutureWarning: Passing (type, 1) or '1type' as a synonym of type is deprecated; in a future version of numpy, it will be understood as (type, (1,)) / '(1,)type'.\n",
      "  _np_qint8 = np.dtype([(\"qint8\", np.int8, 1)])\n",
      "C:\\Users\\malon\\.conda\\envs\\nlpdisaster\\lib\\site-packages\\tensorflow\\python\\framework\\dtypes.py:527: FutureWarning: Passing (type, 1) or '1type' as a synonym of type is deprecated; in a future version of numpy, it will be understood as (type, (1,)) / '(1,)type'.\n",
      "  _np_quint8 = np.dtype([(\"quint8\", np.uint8, 1)])\n",
      "C:\\Users\\malon\\.conda\\envs\\nlpdisaster\\lib\\site-packages\\tensorflow\\python\\framework\\dtypes.py:528: FutureWarning: Passing (type, 1) or '1type' as a synonym of type is deprecated; in a future version of numpy, it will be understood as (type, (1,)) / '(1,)type'.\n",
      "  _np_qint16 = np.dtype([(\"qint16\", np.int16, 1)])\n",
      "C:\\Users\\malon\\.conda\\envs\\nlpdisaster\\lib\\site-packages\\tensorflow\\python\\framework\\dtypes.py:529: FutureWarning: Passing (type, 1) or '1type' as a synonym of type is deprecated; in a future version of numpy, it will be understood as (type, (1,)) / '(1,)type'.\n",
      "  _np_quint16 = np.dtype([(\"quint16\", np.uint16, 1)])\n",
      "C:\\Users\\malon\\.conda\\envs\\nlpdisaster\\lib\\site-packages\\tensorflow\\python\\framework\\dtypes.py:530: FutureWarning: Passing (type, 1) or '1type' as a synonym of type is deprecated; in a future version of numpy, it will be understood as (type, (1,)) / '(1,)type'.\n",
      "  _np_qint32 = np.dtype([(\"qint32\", np.int32, 1)])\n",
      "C:\\Users\\malon\\.conda\\envs\\nlpdisaster\\lib\\site-packages\\tensorflow\\python\\framework\\dtypes.py:535: FutureWarning: Passing (type, 1) or '1type' as a synonym of type is deprecated; in a future version of numpy, it will be understood as (type, (1,)) / '(1,)type'.\n",
      "  np_resource = np.dtype([(\"resource\", np.ubyte, 1)])\n"
     ]
    }
   ],
   "source": [
    "# Import libraries \n",
    "# Standard libraries for data processing \n",
    "import pandas as pd \n",
    "import numpy as np \n",
    "\n",
    "# Data visualization\n",
    "import seaborn as sns \n",
    "import matplotlib.pyplot as plt \n",
    "from PIL import Image \n",
    "from wordcloud import WordCloud, STOPWORDS, ImageColorGenerator \n",
    "\n",
    "# NLTK processing \n",
    "import nltk\n",
    "from nltk.sentiment.vader import SentimentIntensityAnalyzer as SIA\n",
    "from nltk.tokenize import word_tokenize\n",
    "from nltk.stem import WordNetLemmatizer\n",
    "from nltk.corpus import stopwords\n",
    "from nltk import PorterStemmer\n",
    "\n",
    "# Modeling \n",
    "import torch as pt\n",
    "import tensorflow as tf \n",
    "from sklearn.model_selection import cross_val_score, train_test_split \n",
    "from sklearn.svm import LinearSVC\n",
    "from sklearn.feature_extraction.text import TfidfVectorizer, CountVectorizer\n",
    "from sklearn.metrics import confusion_matrix, precision_score, recall_score\n",
    "from sklearn.naive_bayes import MultinomialNB\n",
    "from sklearn.pipeline import Pipeline"
   ]
  },
  {
   "cell_type": "code",
   "execution_count": 2,
   "metadata": {},
   "outputs": [],
   "source": [
    "# Load data sets \n",
    "train = pd.read_csv('train.csv')\n",
    "test = pd.read_csv('test.csv')"
   ]
  },
  {
   "cell_type": "code",
   "execution_count": 3,
   "metadata": {},
   "outputs": [
    {
     "name": "stdout",
     "output_type": "stream",
     "text": [
      "Length of the data set: 7613\n",
      "\n"
     ]
    },
    {
     "data": {
      "text/html": [
       "<div>\n",
       "<style scoped>\n",
       "    .dataframe tbody tr th:only-of-type {\n",
       "        vertical-align: middle;\n",
       "    }\n",
       "\n",
       "    .dataframe tbody tr th {\n",
       "        vertical-align: top;\n",
       "    }\n",
       "\n",
       "    .dataframe thead th {\n",
       "        text-align: right;\n",
       "    }\n",
       "</style>\n",
       "<table border=\"1\" class=\"dataframe\">\n",
       "  <thead>\n",
       "    <tr style=\"text-align: right;\">\n",
       "      <th></th>\n",
       "      <th>id</th>\n",
       "      <th>keyword</th>\n",
       "      <th>location</th>\n",
       "      <th>text</th>\n",
       "      <th>target</th>\n",
       "    </tr>\n",
       "  </thead>\n",
       "  <tbody>\n",
       "    <tr>\n",
       "      <th>5002</th>\n",
       "      <td>7135</td>\n",
       "      <td>military</td>\n",
       "      <td>NaN</td>\n",
       "      <td>@UniversityofLaw For the people who died in Hu...</td>\n",
       "      <td>1</td>\n",
       "    </tr>\n",
       "    <tr>\n",
       "      <th>827</th>\n",
       "      <td>1203</td>\n",
       "      <td>blizzard</td>\n",
       "      <td>NaN</td>\n",
       "      <td>Updated to Windows 10 now I get this error htt...</td>\n",
       "      <td>0</td>\n",
       "    </tr>\n",
       "    <tr>\n",
       "      <th>5924</th>\n",
       "      <td>8457</td>\n",
       "      <td>screamed</td>\n",
       "      <td>NaN</td>\n",
       "      <td>I ran with earbuds in which I now realize mean...</td>\n",
       "      <td>0</td>\n",
       "    </tr>\n",
       "    <tr>\n",
       "      <th>2533</th>\n",
       "      <td>3637</td>\n",
       "      <td>desolation</td>\n",
       "      <td>NaN</td>\n",
       "      <td>Hey girl you must be Toe Hobbit: Part Two: ghe...</td>\n",
       "      <td>0</td>\n",
       "    </tr>\n",
       "    <tr>\n",
       "      <th>5950</th>\n",
       "      <td>8500</td>\n",
       "      <td>screaming</td>\n",
       "      <td>tx</td>\n",
       "      <td>@camilacabello97 Internally and externally scr...</td>\n",
       "      <td>1</td>\n",
       "    </tr>\n",
       "    <tr>\n",
       "      <th>7081</th>\n",
       "      <td>10142</td>\n",
       "      <td>upheaval</td>\n",
       "      <td>maryland</td>\n",
       "      <td>A Look at State Actions a Year after Ferguson...</td>\n",
       "      <td>1</td>\n",
       "    </tr>\n",
       "  </tbody>\n",
       "</table>\n",
       "</div>"
      ],
      "text/plain": [
       "         id     keyword  location  \\\n",
       "5002   7135    military       NaN   \n",
       "827    1203    blizzard       NaN   \n",
       "5924   8457    screamed       NaN   \n",
       "2533   3637  desolation       NaN   \n",
       "5950   8500   screaming        tx   \n",
       "7081  10142    upheaval  maryland   \n",
       "\n",
       "                                                   text  target  \n",
       "5002  @UniversityofLaw For the people who died in Hu...       1  \n",
       "827   Updated to Windows 10 now I get this error htt...       0  \n",
       "5924  I ran with earbuds in which I now realize mean...       0  \n",
       "2533  Hey girl you must be Toe Hobbit: Part Two: ghe...       0  \n",
       "5950  @camilacabello97 Internally and externally scr...       1  \n",
       "7081  A Look at State Actions a Year after Ferguson...       1  "
      ]
     },
     "execution_count": 3,
     "metadata": {},
     "output_type": "execute_result"
    }
   ],
   "source": [
    "# How long is the data set?\n",
    "print(\"Length of the data set: {}\\n\".format(len(train)))\n",
    "\n",
    "# Select a random sample of the data set\n",
    "train.sample(6)"
   ]
  },
  {
   "cell_type": "code",
   "execution_count": 4,
   "metadata": {},
   "outputs": [
    {
     "data": {
      "text/html": [
       "<div>\n",
       "<style scoped>\n",
       "    .dataframe tbody tr th:only-of-type {\n",
       "        vertical-align: middle;\n",
       "    }\n",
       "\n",
       "    .dataframe tbody tr th {\n",
       "        vertical-align: top;\n",
       "    }\n",
       "\n",
       "    .dataframe thead th {\n",
       "        text-align: right;\n",
       "    }\n",
       "</style>\n",
       "<table border=\"1\" class=\"dataframe\">\n",
       "  <thead>\n",
       "    <tr style=\"text-align: right;\">\n",
       "      <th></th>\n",
       "      <th>id</th>\n",
       "      <th>keyword</th>\n",
       "      <th>location</th>\n",
       "      <th>text</th>\n",
       "    </tr>\n",
       "    <tr>\n",
       "      <th>target</th>\n",
       "      <th></th>\n",
       "      <th></th>\n",
       "      <th></th>\n",
       "      <th></th>\n",
       "    </tr>\n",
       "  </thead>\n",
       "  <tbody>\n",
       "    <tr>\n",
       "      <th>0</th>\n",
       "      <td>4342</td>\n",
       "      <td>4323</td>\n",
       "      <td>2884</td>\n",
       "      <td>4342</td>\n",
       "    </tr>\n",
       "    <tr>\n",
       "      <th>1</th>\n",
       "      <td>3271</td>\n",
       "      <td>3229</td>\n",
       "      <td>2196</td>\n",
       "      <td>3271</td>\n",
       "    </tr>\n",
       "  </tbody>\n",
       "</table>\n",
       "</div>"
      ],
      "text/plain": [
       "          id  keyword  location  text\n",
       "target                               \n",
       "0       4342     4323      2884  4342\n",
       "1       3271     3229      2196  3271"
      ]
     },
     "execution_count": 4,
     "metadata": {},
     "output_type": "execute_result"
    }
   ],
   "source": [
    "# How many items of each target are there?\n",
    "train.groupby('target').count()"
   ]
  },
  {
   "cell_type": "code",
   "execution_count": 5,
   "metadata": {},
   "outputs": [],
   "source": [
    "# Function that takes in a data frame and target, returning a keyword pairs dictionary \n",
    "def kwDict(df, target): \n",
    "    kw = list(df[df['target']==target].keyword)\n",
    "    wordfreq = [kw.count(k) for k in kw]\n",
    "    kw_dict = dict(list(zip(kw, wordfreq)))\n",
    "    return kw_dict"
   ]
  },
  {
   "cell_type": "code",
   "execution_count": 6,
   "metadata": {},
   "outputs": [],
   "source": [
    "# Generate keyword pairs for both disaster and non-disaster lists\n",
    "kw1_dict = kwDict(train, 1)\n",
    "kw0_dict = kwDict(train, 0)"
   ]
  },
  {
   "cell_type": "code",
   "execution_count": 7,
   "metadata": {},
   "outputs": [
    {
     "name": "stdout",
     "output_type": "stream",
     "text": [
      "{nan: 19, 'ablaze': 23, 'accident': 11, 'aftershock': 34, 'airplane%20accident': 5, 'ambulance': 18, 'annihilated': 23, 'annihilation': 19, 'apocalypse': 23, 'armageddon': 37}\n",
      "{nan: 42, 'ablaze': 13, 'accident': 24, 'airplane%20accident': 30, 'ambulance': 20, 'annihilated': 11, 'annihilation': 10, 'apocalypse': 9, 'armageddon': 5, 'army': 5}\n"
     ]
    }
   ],
   "source": [
    "# Print out first ten\n",
    "print({k: kw0_dict[k] for k in list(kw0_dict)[:10]})\n",
    "print({k: kw1_dict[k] for k in list(kw1_dict)[:10]})"
   ]
  },
  {
   "cell_type": "code",
   "execution_count": null,
   "metadata": {},
   "outputs": [],
   "source": [
    "# Next steps:\n",
    "# 1. Lemmatize and stem keywords (maybe add this to the function)\n",
    "# 2. Word cloud \n",
    "# 3. Check how well a model would function if we only used the keywords \n",
    "# 4. Location\n",
    "# 5. Are certain keywords tied more closely to certain locations? \n",
    "# 6. Clean tweets > lowercase, stem and lemmatize. \n",
    "# 7. Count Vectorize and Tfidf > build model with these to compare results with keywords and locations only. \n",
    "# 8. Hyperparameter model-tuning after a first successful model is found. \n",
    "# 9. Test pytorch and tensorflow NN. "
   ]
  }
 ],
 "metadata": {
  "kernelspec": {
   "display_name": "Python 3",
   "language": "python",
   "name": "python3"
  },
  "language_info": {
   "codemirror_mode": {
    "name": "ipython",
    "version": 3
   },
   "file_extension": ".py",
   "mimetype": "text/x-python",
   "name": "python",
   "nbconvert_exporter": "python",
   "pygments_lexer": "ipython3",
   "version": "3.6.7"
  }
 },
 "nbformat": 4,
 "nbformat_minor": 4
}
